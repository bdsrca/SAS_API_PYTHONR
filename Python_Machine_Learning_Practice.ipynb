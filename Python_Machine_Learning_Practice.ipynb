{
 "cells": [
  {
   "cell_type": "markdown",
   "metadata": {},
   "source": [
    "# Python Machine Learning Practice - Part l"
   ]
  },
  {
   "cell_type": "markdown",
   "metadata": {},
   "source": [
    "## Overview of the Predictive Modeling Case\n",
    "A large financial institution has created a new product for its customers. They have marketed the product to random customers and gathered demographic and financial information from these customers. Your goal is to build a model to predict which customers are most likely to purchase the new product. "
   ]
  },
  {
   "cell_type": "markdown",
   "metadata": {},
   "source": [
    "## Data\n",
    "The **BANK_PROMO** data set contains information from account holders at a large financial services firm. The accounts represent consumers of home equity lines of credit, automobile loans, and other short to medium term credit instruments. "
   ]
  },
  {
   "cell_type": "markdown",
   "metadata": {},
   "source": [
    "| Name          | Model Role | Measurement Level | Description                                                            |\n",
    "|:--------------|:-----------|:------------------|:-----------------------------------------------------------------------|\n",
    "| B_TGT         | Target     | Binary            | 1 = customer pruchased new product, 0 = customer did not purchase      |\n",
    "| CAT_INPUT1    | Input      | Nominal           | Account activity level                                                 |\n",
    "| CAT_INPUT2    | Input      | Nominal           | Customer value level                                                   |\n",
    "| DEMOG_AGE     | Input      | Interval          | Customer age                                                           |\n",
    "| DEMOG_GEN     | Input      | Binary            | Customer gender                                                        |\n",
    "| DEMOG_HOS     | Input      | Binary            | Homeowner status                                                       |\n",
    "| DEMOG_HOMEVAL | Input      | Interval          | Home value                                                             |\n",
    "| DEMOG_INC     | Input      | Interval          | Income                                                                 |\n",
    "| RFM5          | Input      | Interval          | Purchase count past three years                                        |\n",
    "| RFM6          | Input      | Interval          | Purchase count lifetime                                                |\n",
    "| RFM7          | Input      | Interval          | Purchase count past three years direct promotion response              |\n",
    "| RFM8          | Input      | Interval          | Purchase count lifetime direct promotion response                      |\n",
    "| RFM9          | Input      | Interval          | Months since last purchase                                             |\n",
    "| RFM10         | Input      | Interval          | Total count promos past year                                           |\n",
    "| RFM11         | Input      | Interval          | Direct promos count past year                                          |\n",
    "| RFM12         | Input      | Interval          | Customer Tenure                                                        |"
   ]
  },
  {
   "cell_type": "markdown",
   "metadata": {},
   "source": [
    "# Load Packages"
   ]
  },
  {
   "cell_type": "code",
   "execution_count": null,
   "metadata": {
    "collapsed": true
   },
   "outputs": [],
   "source": [
    "import os\n",
    "import sys\n",
    "import swat\n",
    "import pandas as pd\n",
    "from matplotlib import pyplot as plt\n",
    "%matplotlib inline\n",
    "swat.options.cas.print_messages = True"
   ]
  },
  {
   "cell_type": "markdown",
   "metadata": {},
   "source": [
    "# Connect to CAS"
   ]
  },
  {
   "cell_type": "code",
   "execution_count": null,
   "metadata": {
    "collapsed": true
   },
   "outputs": [],
   "source": [
    "conn = swat.CAS(os.environ.get(\"CASHOST\"), os.environ.get(\"CASPORT\"),None,os.environ.get(\"SAS_VIYA_TOKEN\"))"
   ]
  },
  {
   "cell_type": "markdown",
   "metadata": {},
   "source": [
    "# CAS Session"
   ]
  },
  {
   "cell_type": "code",
   "execution_count": null,
   "metadata": {
    "collapsed": true
   },
   "outputs": [],
   "source": [
    "# Change Timeout\n",
    "mytime = 60*60*12\n",
    "conn.session.timeout(time=mytime)\n",
    "conn.session.sessionStatus()"
   ]
  },
  {
   "cell_type": "markdown",
   "metadata": {},
   "source": [
    "# Load Data onto the Server"
   ]
  },
  {
   "cell_type": "code",
   "execution_count": null,
   "metadata": {
    "collapsed": true
   },
   "outputs": [],
   "source": [
    "# Read in the bank_promo CSV to an in-memory data table and create a CAS table object reference\n",
    "castbl = conn.read_csv(os.environ.get(\"HOME\")+\"/Courses/EVMLOPRC/DATA/bank_promo.csv\", casout = dict(name=\"bank\", replace=True))\n",
    "\n",
    "# Create variable for the in-memory data set name\n",
    "indata = 'bank'"
   ]
  },
  {
   "cell_type": "markdown",
   "metadata": {},
   "source": [
    "# Explore the Data"
   ]
  },
  {
   "cell_type": "code",
   "execution_count": null,
   "metadata": {
    "collapsed": true
   },
   "outputs": [],
   "source": [
    "castbl.head()"
   ]
  },
  {
   "cell_type": "code",
   "execution_count": null,
   "metadata": {
    "collapsed": true
   },
   "outputs": [],
   "source": [
    "display(castbl.shape)\n",
    "list(castbl)"
   ]
  },
  {
   "cell_type": "code",
   "execution_count": null,
   "metadata": {
    "collapsed": true
   },
   "outputs": [],
   "source": [
    "castbl.mean()"
   ]
  },
  {
   "cell_type": "code",
   "execution_count": null,
   "metadata": {
    "collapsed": true
   },
   "outputs": [],
   "source": [
    "castbl.describe(include=['numeric', 'character'])"
   ]
  },
  {
   "cell_type": "markdown",
   "metadata": {},
   "source": [
    "# Transform the demog_age variable"
   ]
  },
  {
   "cell_type": "code",
   "execution_count": null,
   "metadata": {
    "collapsed": true
   },
   "outputs": [],
   "source": [
    "conn.loadActionSet('dataStep')\n",
    "actions = conn.builtins.help(actionSet='dataStep')"
   ]
  },
  {
   "cell_type": "code",
   "execution_count": null,
   "metadata": {
    "collapsed": true
   },
   "outputs": [],
   "source": [
    "conn.dataStep.runCode(code=\n",
    "    '''\n",
    "    data bank;\n",
    "        set bank;\n",
    "        if demog_age < 18 and demog_age ^= . then demog_age = 18;\n",
    "    run;\n",
    "    '''\n",
    ")"
   ]
  },
  {
   "cell_type": "code",
   "execution_count": null,
   "metadata": {
    "collapsed": true
   },
   "outputs": [],
   "source": [
    "castbl.describe()['demog_age']"
   ]
  },
  {
   "cell_type": "markdown",
   "metadata": {},
   "source": [
    "# Explore the Data using CAS Actions"
   ]
  },
  {
   "cell_type": "code",
   "execution_count": null,
   "metadata": {
    "collapsed": true
   },
   "outputs": [],
   "source": [
    "conn.loadActionSet('simple')\n",
    "actions = conn.builtins.help(actionSet='simple')"
   ]
  },
  {
   "cell_type": "code",
   "execution_count": null,
   "metadata": {
    "collapsed": true
   },
   "outputs": [],
   "source": [
    "conn.simple.correlation(\n",
    "    table = indata,\n",
    "    inputs = ['rfm5','rfm6','rfm7','rfm8','rfm9','rfm10','rfm11','rfm12']\n",
    ")['Correlation']"
   ]
  },
  {
   "cell_type": "code",
   "execution_count": null,
   "metadata": {
    "collapsed": true
   },
   "outputs": [],
   "source": [
    "conn.simple.distinct(\n",
    "    table = indata,\n",
    "    inputs = ['b_tgt','cat_input1','cat_input2','demog_gen','demog_hos']\n",
    ")"
   ]
  },
  {
   "cell_type": "code",
   "execution_count": null,
   "metadata": {
    "collapsed": true
   },
   "outputs": [],
   "source": [
    "conn.simple.freq(\n",
    "    table = indata,\n",
    "    inputs = ['b_tgt','cat_input1','cat_input2','demog_gen','demog_hos']\n",
    ")"
   ]
  },
  {
   "cell_type": "code",
   "execution_count": null,
   "metadata": {
    "collapsed": true
   },
   "outputs": [],
   "source": [
    "conn.simple.crossTab(\n",
    "    table = indata,\n",
    "    row = \"b_tgt\", col = \"cat_input2\"\n",
    ")"
   ]
  },
  {
   "cell_type": "code",
   "execution_count": null,
   "metadata": {
    "collapsed": true
   },
   "outputs": [],
   "source": [
    "conn.loadActionSet('cardinality')\n",
    "actions = conn.builtins.help(actionSet='cardinality')"
   ]
  },
  {
   "cell_type": "code",
   "execution_count": null,
   "metadata": {
    "collapsed": true
   },
   "outputs": [],
   "source": [
    "conn.cardinality.summarize(\n",
    "    table = indata,\n",
    "    cardinality = dict(name='card', replace=True)\n",
    ")"
   ]
  },
  {
   "cell_type": "code",
   "execution_count": null,
   "metadata": {
    "collapsed": true
   },
   "outputs": [],
   "source": [
    "# Create connection object for the card data table\n",
    "card = conn.CASTable(name = \"card\")\n",
    "display(castbl.head())\n",
    "card.shape"
   ]
  },
  {
   "cell_type": "markdown",
   "metadata": {},
   "source": [
    "# Visualize Numeric Variables Locally"
   ]
  },
  {
   "cell_type": "code",
   "execution_count": null,
   "metadata": {
    "collapsed": true
   },
   "outputs": [],
   "source": [
    "conn.loadActionSet('sampling')\n",
    "actions = conn.builtins.help(actionSet='sampling')"
   ]
  },
  {
   "cell_type": "code",
   "execution_count": null,
   "metadata": {
    "collapsed": true
   },
   "outputs": [],
   "source": [
    "conn.sampling.srs(\n",
    "    table   = indata,\n",
    "    samppct = 25,\n",
    "    seed = 123,\n",
    "    partind = False,\n",
    "    output  = dict(casOut = dict(name = 'mysam', replace = True),  copyVars = 'ALL')\n",
    ")"
   ]
  },
  {
   "cell_type": "code",
   "execution_count": null,
   "metadata": {
    "collapsed": true
   },
   "outputs": [],
   "source": [
    "# Create connection object\n",
    "mysam = conn.CASTable(name = \"mysam\")\n",
    "\n",
    "# Bring data locally\n",
    "df = mysam.to_frame()\n",
    "\n",
    "# Create histograms of the numeric columns\n",
    "df.hist(bins=20, figsize=(10,10))\n",
    "plt.show()"
   ]
  },
  {
   "cell_type": "markdown",
   "metadata": {},
   "source": [
    "# Check Data for Missing Values"
   ]
  },
  {
   "cell_type": "code",
   "execution_count": null,
   "metadata": {
    "collapsed": true
   },
   "outputs": [],
   "source": [
    "# Create a casDataFrame containing number of missing values for each variable\n",
    "tbl = castbl.distinct()['Distinct'][['Column', 'NMiss']]\n",
    "tbl"
   ]
  },
  {
   "cell_type": "code",
   "execution_count": null,
   "metadata": {
    "collapsed": true
   },
   "outputs": [],
   "source": [
    "# Plot the percent of missing values locally\n",
    "nr = castbl.shape[0]\n",
    "tbl['PctMiss'] = tbl['NMiss']/nr\n",
    "MissPlot = tbl.plot(x='Column', y='PctMiss', kind='bar', figsize=(8,8), fontsize=15)\n",
    "MissPlot.set_xlabel('Variable', fontsize=15)\n",
    "MissPlot.set_ylabel('Percent Missing', fontsize=15)\n",
    "MissPlot.legend_.remove()\n",
    "plt.show()"
   ]
  },
  {
   "cell_type": "markdown",
   "metadata": {},
   "source": [
    "# Impute Missing Values"
   ]
  },
  {
   "cell_type": "code",
   "execution_count": null,
   "metadata": {
    "collapsed": true
   },
   "outputs": [],
   "source": [
    "conn.dataPreprocess.impute(\n",
    "    table = indata,\n",
    "    methodContinuous = 'MEDIAN',\n",
    "    methodNominal    = 'MODE',\n",
    "    inputs           = list(castbl)[1:],\n",
    "    copyAllVars      = True,\n",
    "    casOut           = dict(name = indata, replace = True)\n",
    ")"
   ]
  },
  {
   "cell_type": "markdown",
   "metadata": {},
   "source": [
    "# Create Variable Shortcuts"
   ]
  },
  {
   "cell_type": "code",
   "execution_count": null,
   "metadata": {
    "collapsed": true
   },
   "outputs": [],
   "source": [
    "# Get variable info and types\n",
    "colinfo = conn.table.columninfo(table=indata)['ColumnInfo']\n",
    "colinfo"
   ]
  },
  {
   "cell_type": "code",
   "execution_count": null,
   "metadata": {
    "collapsed": true
   },
   "outputs": [],
   "source": [
    "# Target variable is the first variable\n",
    "target = colinfo['Column'][0]\n",
    "\n",
    "# Get all variables\n",
    "inputs = list(colinfo['Column'][1:])\n",
    "nominals = list(colinfo.query('Type==\"varchar\"')['Column'])\n",
    "\n",
    "# Get only imputed variables\n",
    "inputs = [k for k in inputs if 'IMP_' in k]\n",
    "nominals = [k for k in nominals if 'IMP_' in k]\n",
    "nominals = [target] + nominals\n",
    "\n",
    "display(target)\n",
    "display(inputs)\n",
    "display(nominals)"
   ]
  },
  {
   "cell_type": "markdown",
   "metadata": {},
   "source": [
    "# Python Machine Learning Practice - Part ll"
   ]
  },
  {
   "cell_type": "markdown",
   "metadata": {},
   "source": [
    "# Split the Data into Training and Validation"
   ]
  },
  {
   "cell_type": "code",
   "execution_count": null,
   "metadata": {
    "collapsed": true
   },
   "outputs": [],
   "source": [
    "conn.sampling.srs(\n",
    "    table   = indata,\n",
    "    samppct = 70,\n",
    "    seed = 919,\n",
    "    partind = True,\n",
    "    output  = dict(casOut = dict(name = indata, replace = True),  copyVars = 'ALL')\n",
    ")"
   ]
  },
  {
   "cell_type": "markdown",
   "metadata": {},
   "source": [
    "# View the partition"
   ]
  },
  {
   "cell_type": "code",
   "execution_count": null,
   "metadata": {
    "collapsed": true
   },
   "outputs": [],
   "source": [
    "# Refresh the castbl object\n",
    "castbl = conn.CASTable(name=indata)\n",
    "\n",
    "# Make sure the partition worked correctly using Python code\n",
    "castbl['_PartInd_'].mean()"
   ]
  },
  {
   "cell_type": "markdown",
   "metadata": {},
   "source": [
    "# Decision Tree"
   ]
  },
  {
   "cell_type": "code",
   "execution_count": null,
   "metadata": {
    "collapsed": true
   },
   "outputs": [],
   "source": [
    "conn.loadActionSet('decisionTree')\n",
    "actions = conn.builtins.help(actionSet='decisionTree')"
   ]
  },
  {
   "cell_type": "code",
   "execution_count": null,
   "metadata": {
    "collapsed": true
   },
   "outputs": [],
   "source": [
    "conn.decisionTree.dtreeTrain(\n",
    "    table    = dict(name = indata, where = '_PartInd_ = 1'),\n",
    "    target   = target, \n",
    "    inputs   = inputs, \n",
    "    nominals = nominals,\n",
    "    casOut   = dict(name = 'dt_model', replace = True)\n",
    ")"
   ]
  },
  {
   "cell_type": "markdown",
   "metadata": {},
   "source": [
    "# Random Forest"
   ]
  },
  {
   "cell_type": "code",
   "execution_count": null,
   "metadata": {
    "collapsed": true
   },
   "outputs": [],
   "source": [
    "conn.decisionTree.forestTrain(\n",
    "    table    = dict(name = indata, where = '_PartInd_ = 1'),\n",
    "    target   = target, \n",
    "    inputs   = inputs, \n",
    "    nominals = nominals,\n",
    "    nTree    = 1000,\n",
    "    casOut   = dict(name = 'rf_model', replace = True)\n",
    ")"
   ]
  },
  {
   "cell_type": "markdown",
   "metadata": {},
   "source": [
    "# Gradient Boosting"
   ]
  },
  {
   "cell_type": "code",
   "execution_count": null,
   "metadata": {
    "collapsed": true
   },
   "outputs": [],
   "source": [
    "conn.decisionTree.gbtreeTrain(\n",
    "    table    = dict(name = indata, where = '_PartInd_ = 1'),\n",
    "    target   = target, \n",
    "    inputs   = inputs, \n",
    "    nominals = nominals,\n",
    "    nTree    = 1000,\n",
    "    casOut   = dict(name = 'gbt_model', replace = True)\n",
    ")"
   ]
  },
  {
   "cell_type": "markdown",
   "metadata": {},
   "source": [
    "# Score the Models"
   ]
  },
  {
   "cell_type": "code",
   "execution_count": null,
   "metadata": {
    "collapsed": true
   },
   "outputs": [],
   "source": [
    "#Score the decision tree model\n",
    "dt_score_obj = conn.decisionTree.dtreeScore(\n",
    "    table    = dict(name = indata, where = '_PartInd_ = 0'),\n",
    "    model = \"dt_model\",\n",
    "    casout = dict(name=\"dt_scored\",replace=True),\n",
    "    copyVars = target,\n",
    "    encodename = True,\n",
    "    assessonerow = True\n",
    ")\n",
    "\n",
    "#Score the random forest model\n",
    "rf_score_obj = conn.decisionTree.forestScore(\n",
    "    table    = dict(name = indata, where = '_PartInd_ = 0'),\n",
    "    model = \"rf_model\",\n",
    "    casout = dict(name=\"rf_scored\",replace=True),\n",
    "    copyVars = target,\n",
    "    encodename = True,\n",
    "    assessonerow = True\n",
    ")\n",
    "\n",
    "#Score the gradient boosting model\n",
    "gb_score_obj = conn.decisionTree.gbtreeScore(\n",
    "    table    = dict(name = indata, where = '_PartInd_ = 0'),\n",
    "    model = \"gbt_model\",\n",
    "    casout = dict(name=\"gbt_scored\",replace=True),\n",
    "    copyVars = target,\n",
    "    encodename = True,\n",
    "    assessonerow = True\n",
    ")"
   ]
  },
  {
   "cell_type": "markdown",
   "metadata": {},
   "source": [
    "# Assess the Models"
   ]
  },
  {
   "cell_type": "code",
   "execution_count": null,
   "metadata": {
    "collapsed": true
   },
   "outputs": [],
   "source": [
    "conn.loadActionSet('percentile')\n",
    "actions = conn.builtins.help(actionSet='percentile')"
   ]
  },
  {
   "cell_type": "code",
   "execution_count": null,
   "metadata": {
    "collapsed": true
   },
   "outputs": [],
   "source": [
    "# Create prediction variable name\n",
    "assess_input = 'P_'+target+'1'\n",
    "\n",
    "# Assess the decision tree model\n",
    "dt_assess_obj = conn.percentile.assess(\n",
    "   table = \"dt_scored\",\n",
    "   inputs = assess_input,\n",
    "   casout = dict(name=\"dt_assess\",replace=True),\n",
    "   response = target,\n",
    "   event = \"1\"\n",
    ")\n",
    "\n",
    "# Assess the random forest model\n",
    "rf_assess_obj = conn.percentile.assess(\n",
    "   table = \"rf_scored\",\n",
    "   inputs = assess_input,\n",
    "   casout = dict(name=\"rf_assess\",replace=True),\n",
    "   response = target,\n",
    "   event = \"1\"\n",
    ")\n",
    "\n",
    "# Assess the gradient boosting model\n",
    "gb_assess_obj = conn.percentile.assess(\n",
    "   table = \"gbt_scored\",\n",
    "   inputs = assess_input,\n",
    "   casout = dict(name=\"gbt_assess\",replace=True),\n",
    "   response = target,\n",
    "   event = \"1\"\n",
    ")"
   ]
  },
  {
   "cell_type": "markdown",
   "metadata": {},
   "source": [
    "# Bring Results to the Client"
   ]
  },
  {
   "cell_type": "code",
   "execution_count": null,
   "metadata": {
    "collapsed": true
   },
   "outputs": [],
   "source": [
    "# Create table objects from the assess output, \n",
    "# bring data to the client, \n",
    "# and add new variable to data frame indicating model name\n",
    "\n",
    "dt_assess_ROC = conn.CASTable(name = \"dt_assess_ROC\")\n",
    "dt_assess_ROC = dt_assess_ROC.to_frame()\n",
    "dt_assess_ROC['Model']= 'Decision Tree'\n",
    "\n",
    "rf_assess_ROC = conn.CASTable(name = \"rf_assess_ROC\")\n",
    "rf_assess_ROC = rf_assess_ROC.to_frame()\n",
    "rf_assess_ROC['Model'] = 'Random Forest'\n",
    "\n",
    "gbt_assess_ROC = conn.CASTable(name = \"gbt_assess_ROC\")\n",
    "gbt_assess_ROC = gbt_assess_ROC.to_frame()\n",
    "gbt_assess_ROC['Model'] = 'Gradient Boosting'"
   ]
  },
  {
   "cell_type": "markdown",
   "metadata": {},
   "source": [
    "# Compare Confusion Matrix"
   ]
  },
  {
   "cell_type": "code",
   "execution_count": null,
   "metadata": {
    "collapsed": true
   },
   "outputs": [],
   "source": [
    "df_assess = pd.DataFrame()\n",
    "df_assess = pd.concat([dt_assess_ROC,rf_assess_ROC,gbt_assess_ROC])\n",
    "cutoff_index = round(df_assess['_Cutoff_'],2)==0.5\n",
    "compare = df_assess[cutoff_index].reset_index(drop=True)\n",
    "compare[['Model','_TP_','_FP_','_FN_','_TN_']]"
   ]
  },
  {
   "cell_type": "markdown",
   "metadata": {},
   "source": [
    "# Compare Misclassification"
   ]
  },
  {
   "cell_type": "code",
   "execution_count": null,
   "metadata": {
    "collapsed": true
   },
   "outputs": [],
   "source": [
    "compare['Misclassification'] = 1-compare['_ACC_']\n",
    "miss = compare[round(compare['_Cutoff_'],2)==0.5][['Model','Misclassification']]\n",
    "miss.sort_values('Misclassification')"
   ]
  },
  {
   "cell_type": "markdown",
   "metadata": {},
   "source": [
    "# Compare ROC Curves"
   ]
  },
  {
   "cell_type": "code",
   "execution_count": null,
   "metadata": {
    "collapsed": true
   },
   "outputs": [],
   "source": [
    "plt.figure(figsize=(8,8))\n",
    "plt.plot()\n",
    "models = list(df_assess.Model.unique())\n",
    "\n",
    "# Iteratively add curves to the plot\n",
    "for X in models:\n",
    "    tmp = df_assess[df_assess['Model']==X]\n",
    "    plt.plot(tmp['_FPR_'],tmp['_Sensitivity_'], label=X+' (C=%0.2f)'%tmp['_C_'].mean())\n",
    "\n",
    "plt.xlabel('False Positive Rate', fontsize=15)\n",
    "plt.ylabel('True Positive Rate', fontsize=15)\n",
    "plt.legend(loc='lower right')\n",
    "plt.show()"
   ]
  },
  {
   "cell_type": "markdown",
   "metadata": {},
   "source": [
    "# Python Machine Learning Practice - Part lll"
   ]
  },
  {
   "cell_type": "markdown",
   "metadata": {},
   "source": [
    "# Efficient Scoring - Looping"
   ]
  },
  {
   "cell_type": "code",
   "execution_count": null,
   "metadata": {
    "collapsed": true
   },
   "outputs": [],
   "source": [
    "models = ['dt','rf','gbt']\n",
    "actions = ['conn.decisionTree.dtreeScore','conn.decisionTree.forestScore','conn.decisionTree.gbtreeScore']\n",
    "\n",
    "# Create function to score a given model\n",
    "def score_func(model):\n",
    "    tmp_dict = dict(\n",
    "        table    = dict(name = indata, where = '_PartInd_ = 0'),\n",
    "        model = model+'_model',\n",
    "        casout = dict(name=model+'_scored', replace=True),\n",
    "        copyVars = target,\n",
    "        encodename = True,\n",
    "        assessonerow = True\n",
    "    )\n",
    "    return tmp_dict\n",
    "\n",
    "# Loop over the models and actions\n",
    "for i in list(range(len(models))):\n",
    "    params = score_func(models[i])\n",
    "    tmp_str = actions[i]+'(**params)'\n",
    "    obj = eval(tmp_str)\n",
    "    print(models[i])\n",
    "    print(obj['ScoreInfo'].iloc[[2]])"
   ]
  },
  {
   "cell_type": "markdown",
   "metadata": {},
   "source": [
    "# Efficient Assessment - Looping"
   ]
  },
  {
   "cell_type": "code",
   "execution_count": null,
   "metadata": {
    "collapsed": true
   },
   "outputs": [],
   "source": [
    "# Create function to assess a given model\n",
    "def assess_func(model):\n",
    "    tmp_dict = dict(\n",
    "        table = model+'_scored',\n",
    "        inputs = 'P_'+target+'1',\n",
    "        casout = dict(name=model+'_assess' ,replace=True),\n",
    "        response = target,\n",
    "        event = \"1\"\n",
    "    )\n",
    "    return tmp_dict\n",
    "\n",
    "# Loop over the models\n",
    "for i in list(range(len(models))):\n",
    "    params = assess_func(models[i])\n",
    "    obj = conn.percentile.assess(**params)\n",
    "    print(obj['OutputCasTables'][['Name','Rows','Columns']])"
   ]
  },
  {
   "cell_type": "markdown",
   "metadata": {},
   "source": [
    "# Create Confusion Matrix"
   ]
  },
  {
   "cell_type": "code",
   "execution_count": null,
   "metadata": {
    "collapsed": true
   },
   "outputs": [],
   "source": [
    "# Create function to bring assess tables to the client\n",
    "def assess_local_roc(model):\n",
    "    castbl_obj = conn.CASTable(name = model+'_assess_ROC')\n",
    "    local_tbl = castbl_obj.to_frame()\n",
    "    local_tbl['Model'] = model\n",
    "    return local_tbl\n",
    "\n",
    "# Bring result tables to the client in a loop\n",
    "df_assess = pd.DataFrame()\n",
    "for i in list(range(len(models))):\n",
    "    df_assess = pd.concat([df_assess, assess_local_roc(models[i])])\n",
    "\n",
    "cutoff_index = round(df_assess['_Cutoff_'],2)==0.5\n",
    "compare = df_assess[cutoff_index].reset_index(drop=True)\n",
    "compare[['Model','_TP_','_FP_','_FN_','_TN_']]"
   ]
  },
  {
   "cell_type": "markdown",
   "metadata": {},
   "source": [
    "# Compare Misclassification"
   ]
  },
  {
   "cell_type": "code",
   "execution_count": null,
   "metadata": {
    "collapsed": true
   },
   "outputs": [],
   "source": [
    "compare['Misclassification'] = 1-compare['_ACC_']\n",
    "miss = compare[round(compare['_Cutoff_'],2)==0.5][['Model','Misclassification']]\n",
    "miss.sort_values('Misclassification')"
   ]
  },
  {
   "cell_type": "markdown",
   "metadata": {},
   "source": [
    "# Add caslib to specify a data source"
   ]
  },
  {
   "cell_type": "code",
   "execution_count": null,
   "metadata": {
    "collapsed": true,
    "scrolled": false
   },
   "outputs": [],
   "source": [
    "conn.table.addCaslib(name=\"mycl\", path=os.environ.get(\"HOME\"), dataSource=\"PATH\", activeOnAdd = False)"
   ]
  },
  {
   "cell_type": "markdown",
   "metadata": {},
   "source": [
    "# Save the Best Model"
   ]
  },
  {
   "cell_type": "code",
   "execution_count": null,
   "metadata": {
    "collapsed": true,
    "scrolled": true
   },
   "outputs": [],
   "source": [
    "conn.table.save(caslib = 'mycl', table = dict(name = 'gbt_model'), name = 'best_model_gbt', replace = True)"
   ]
  },
  {
   "cell_type": "code",
   "execution_count": null,
   "metadata": {
    "collapsed": true
   },
   "outputs": [],
   "source": [
    "conn.table.attribute(caslib = 'CASUSER', table = 'gbt_model_attr', name = 'gbt_model', task='convert')\n",
    "conn.table.save(caslib = 'mycl', table = 'gbt_model_attr', name = 'attr', replace = True)"
   ]
  },
  {
   "cell_type": "markdown",
   "metadata": {},
   "source": [
    "# Promote Data Table to Global Scope"
   ]
  },
  {
   "cell_type": "code",
   "execution_count": null,
   "metadata": {
    "collapsed": true
   },
   "outputs": [],
   "source": [
    "conn.table.promote(caslib=\"casuser\", name=indata)\n",
    "conn.table.tableInfo()"
   ]
  },
  {
   "cell_type": "markdown",
   "metadata": {},
   "source": [
    "# End the Session"
   ]
  },
  {
   "cell_type": "code",
   "execution_count": null,
   "metadata": {
    "collapsed": true
   },
   "outputs": [],
   "source": [
    "conn.session.endSession()"
   ]
  },
  {
   "cell_type": "markdown",
   "metadata": {},
   "source": [
    "# Python Machine Learning Practice - Part lV"
   ]
  },
  {
   "cell_type": "markdown",
   "metadata": {},
   "source": [
    "![title](sas_viya_logo.png)"
   ]
  }
 ],
 "metadata": {
  "kernelspec": {
   "display_name": "Python 3",
   "language": "python",
   "name": "python3"
  },
  "language_info": {
   "codemirror_mode": {
    "name": "ipython",
    "version": 3
   },
   "file_extension": ".py",
   "mimetype": "text/x-python",
   "name": "python",
   "nbconvert_exporter": "python",
   "pygments_lexer": "ipython3",
   "version": "3.5.2"
  }
 },
 "nbformat": 4,
 "nbformat_minor": 2
}
